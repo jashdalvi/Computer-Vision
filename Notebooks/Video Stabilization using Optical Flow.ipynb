{
 "cells": [
  {
   "cell_type": "code",
   "execution_count": 1,
   "metadata": {},
   "outputs": [],
   "source": [
    "%matplotlib inline\n",
    "import cv2\n",
    "import numpy as np \n",
    "import imutils\n",
    "import matplotlib.pyplot as plt"
   ]
  },
  {
   "cell_type": "code",
   "execution_count": 2,
   "metadata": {},
   "outputs": [],
   "source": [
    "cap = cv2.VideoCapture(\"../data/videos/video.mp4\")"
   ]
  },
  {
   "cell_type": "code",
   "execution_count": 3,
   "metadata": {},
   "outputs": [],
   "source": [
    "width = int(cap.get(cv2.CAP_PROP_FRAME_WIDTH))\n",
    "height = int(cap.get(cv2.CAP_PROP_FRAME_HEIGHT))\n",
    "fps = cap.get(cv2.CAP_PROP_FPS)\n",
    "n_frames = int(cap.get(cv2.CAP_PROP_FRAME_COUNT))\n",
    "\n",
    "#Video Writer object\n",
    "out = cv2.VideoWriter(\"../data/videos/video_stabilize.mp4\",cv2.VideoWriter_fourcc(*\"MJPG\"),fps,(width*2,height))"
   ]
  },
  {
   "cell_type": "code",
   "execution_count": 4,
   "metadata": {},
   "outputs": [],
   "source": [
    "ret, prev_frame = cap.read()\n",
    "prev_frame_gray = cv2.cvtColor(prev_frame,cv2.COLOR_BGR2GRAY)\n",
    "old_points = cv2.goodFeaturesToTrack(prev_frame_gray,200,0.01,30)"
   ]
  },
  {
   "cell_type": "code",
   "execution_count": 5,
   "metadata": {},
   "outputs": [],
   "source": [
    "transforms = np.zeros((n_frames-1,3),dtype = np.float32)\n",
    "i = 0"
   ]
  },
  {
   "cell_type": "code",
   "execution_count": 6,
   "metadata": {},
   "outputs": [],
   "source": [
    "while True:\n",
    "    \n",
    "    ret , next_frame = cap.read()\n",
    "    \n",
    "    if not ret:\n",
    "        break\n",
    "    \n",
    "    next_frame_gray = cv2.cvtColor(next_frame,cv2.COLOR_BGR2GRAY)\n",
    "    new_points,status,err = cv2.calcOpticalFlowPyrLK(prev_frame_gray,next_frame_gray,old_points,None)\n",
    "    \n",
    "    good_old_points = old_points[status == 1]\n",
    "    good_new_points = new_points[status == 1]\n",
    "    \n",
    "    m = cv2.estimateAffinePartial2D(good_old_points,good_new_points)\n",
    "    \n",
    "    dx = m[0][0,2]\n",
    "    dy = m[0][1,2]\n",
    "    \n",
    "    da = np.arctan2(m[0][1,0],m[0][0,0])\n",
    "    transforms[i] = [dx,dy,da]\n",
    "    i += 1\n",
    "    old_points =  new_points\n",
    "    prev_frame_gray = next_frame_gray"
   ]
  },
  {
   "cell_type": "code",
   "execution_count": 7,
   "metadata": {},
   "outputs": [],
   "source": [
    "trajectory = np.cumsum(transforms,axis = 0)"
   ]
  },
  {
   "cell_type": "code",
   "execution_count": 8,
   "metadata": {},
   "outputs": [],
   "source": [
    "def moving_average(row,radius):\n",
    "    conv_filter = np.ones((radius*2 + 1,),dtype = np.float32)/(radius*2 + 1)\n",
    "    row_padded = np.pad(row,(radius,radius),'edge')\n",
    "    return_array = np.convolve(row_padded,conv_filter,'same')\n",
    "    return return_array[radius:-radius]"
   ]
  },
  {
   "cell_type": "code",
   "execution_count": 9,
   "metadata": {},
   "outputs": [],
   "source": [
    "smooth_trajectory = np.zeros_like(trajectory)\n",
    "for i in range(3):\n",
    "    smooth_trajectory[:,i] = moving_average(trajectory[:,i],60)"
   ]
  },
  {
   "cell_type": "code",
   "execution_count": 10,
   "metadata": {},
   "outputs": [],
   "source": [
    "difference = smooth_trajectory - trajectory\n",
    "smooth_transforms = transforms + difference"
   ]
  },
  {
   "cell_type": "code",
   "execution_count": 11,
   "metadata": {},
   "outputs": [],
   "source": [
    "cap = cv2.VideoCapture(\"../data/videos/video.mp4\")"
   ]
  },
  {
   "cell_type": "code",
   "execution_count": 12,
   "metadata": {},
   "outputs": [],
   "source": [
    "def fix_frame(frame):\n",
    "    \n",
    "    M = cv2.getRotationMatrix2D((frame.shape[1]//2,frame.shape[0]//2),0,1.04)\n",
    "    new_frame = cv2.warpAffine(frame,M,(frame.shape[1],frame.shape[0]))\n",
    "    return new_frame"
   ]
  },
  {
   "cell_type": "code",
   "execution_count": 13,
   "metadata": {},
   "outputs": [],
   "source": [
    "ret ,prev_frame = cap.read()\n",
    "\n",
    "save_frame = np.hstack([prev_frame,prev_frame])\n",
    "out.write(save_frame)\n",
    "\n",
    "for i in range(n_frames - 1):\n",
    "    ret ,next_frame = cap.read()\n",
    "    if not ret:\n",
    "        break\n",
    "        \n",
    "    m = np.zeros((2,3),dtype = np.float32)\n",
    "    m[0,0] = np.cos(smooth_transforms[i,2])\n",
    "    m[0,1] = -np.sin(smooth_transforms[i,2])\n",
    "    m[1,0] = np.sin(smooth_transforms[i,2])\n",
    "    m[1,1] = np.cos(smooth_transforms[i,2])\n",
    "    m[0,2] = smooth_transforms[i,0]\n",
    "    m[1,2] = smooth_transforms[i,1]\n",
    "    \n",
    "    new_frame = cv2.warpAffine(next_frame,m,(next_frame.shape[1],next_frame.shape[0]))\n",
    "    \n",
    "    new_frame = fix_frame(new_frame)\n",
    "    \n",
    "    save_frame = np.hstack([next_frame,new_frame])\n",
    "    \n",
    "    out.write(save_frame)\n",
    "    \n",
    "out.release()"
   ]
  }
 ],
 "metadata": {
  "kernelspec": {
   "display_name": "Python 3",
   "language": "python",
   "name": "python3"
  },
  "language_info": {
   "codemirror_mode": {
    "name": "ipython",
    "version": 3
   },
   "file_extension": ".py",
   "mimetype": "text/x-python",
   "name": "python",
   "nbconvert_exporter": "python",
   "pygments_lexer": "ipython3",
   "version": "3.7.6"
  }
 },
 "nbformat": 4,
 "nbformat_minor": 4
}
