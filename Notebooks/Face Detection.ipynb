{
 "cells": [
  {
   "cell_type": "code",
   "execution_count": 2,
   "metadata": {},
   "outputs": [],
   "source": [
    "import cv2\n",
    "import numpy as np\n",
    "import imutils\n",
    "import time"
   ]
  },
  {
   "cell_type": "code",
   "execution_count": 3,
   "metadata": {},
   "outputs": [],
   "source": [
    "face_cascade = cv2.CascadeClassifier(\"../data/models/haarcascade_frontalface_default.xml\")\n",
    "smile_cascade = cv2.CascadeClassifier(\"../data/models/haarcascade_smile.xml\")\n",
    "eye_cascade = cv2.CascadeClassifier(\"../data/models/haarcascade_eye.xml\")"
   ]
  },
  {
   "cell_type": "code",
   "execution_count": 9,
   "metadata": {},
   "outputs": [],
   "source": [
    "cap = cv2.VideoCapture(0)\n",
    "while cap.isOpened():\n",
    "    ret , frame = cap.read()\n",
    "    starting_time = time.time()\n",
    "    if not ret:\n",
    "        break\n",
    "    \n",
    "    frame = imutils.resize(frame,height = 500)\n",
    "    frame_gray = cv2.cvtColor(frame,cv2.COLOR_BGR2GRAY)\n",
    "    faces = face_cascade.detectMultiScale(frame_gray,1.2,9)\n",
    "    for face in faces:\n",
    "        x,y,w,h = face\n",
    "        cv2.rectangle(frame,(x,y),(x+w,y+h),(0,255,0),2,cv2.LINE_AA)\n",
    "        face_roi = frame_gray[y:y+h,x:x+w]\n",
    "        smiles = smile_cascade.detectMultiScale(face_roi,1.2,50)\n",
    "        eyes = eye_cascade.detectMultiScale(face_roi)\n",
    "        for smile in smiles:\n",
    "            x_smile,y_smile,w_smile,h_smile = smile\n",
    "            cv2.rectangle(frame,(x+ x_smile,y +y_smile),(x+x_smile+w_smile,y+y_smile+h_smile),(0,255,0),2,cv2.LINE_AA)\n",
    "        if len(eyes) != 0:\n",
    "            for i in range(eyes.shape[0]):\n",
    "                cv2.rectangle(frame,(x+eyes[i,0],y+eyes[i,1]),(x+eyes[i,0]+eyes[i,2],y+eyes[i,1]+eyes[i,3]),(0,255,0),2,cv2.LINE_AA)\n",
    "    ending_time = time.time()\n",
    "    fps = 1/(ending_time - starting_time)\n",
    "    cv2.putText(frame,\"FPS : {:.3f}\".format(fps),(10,25),cv2.FONT_HERSHEY_SIMPLEX,0.5,(0,255,0),2)\n",
    "    cv2.imshow(\"Face Detector\",frame)\n",
    "    k = cv2.waitKey(25) \n",
    "    if k == ord('q'):\n",
    "        break\n",
    "\n",
    "cap.release()\n",
    "cv2.destroyAllWindows()"
   ]
  },
  {
   "cell_type": "code",
   "execution_count": null,
   "metadata": {},
   "outputs": [],
   "source": []
  }
 ],
 "metadata": {
  "kernelspec": {
   "display_name": "Python 3",
   "language": "python",
   "name": "python3"
  },
  "language_info": {
   "codemirror_mode": {
    "name": "ipython",
    "version": 3
   },
   "file_extension": ".py",
   "mimetype": "text/x-python",
   "name": "python",
   "nbconvert_exporter": "python",
   "pygments_lexer": "ipython3",
   "version": "3.7.6"
  }
 },
 "nbformat": 4,
 "nbformat_minor": 4
}
