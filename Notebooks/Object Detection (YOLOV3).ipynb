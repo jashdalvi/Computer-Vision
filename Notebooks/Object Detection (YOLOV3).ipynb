{
 "cells": [
  {
   "cell_type": "code",
   "execution_count": 22,
   "metadata": {},
   "outputs": [],
   "source": [
    "%matplotlib inline\n",
    "import cv2\n",
    "import numpy as np\n",
    "import imutils\n",
    "import matplotlib.pyplot as plt"
   ]
  },
  {
   "cell_type": "code",
   "execution_count": 23,
   "metadata": {},
   "outputs": [],
   "source": [
    "weights_file = \"../data/models/yolov3.weights\"\n",
    "cfg_file = \"../data/models/yolov3.cfg\"\n",
    "class_file = \"../data/models/coco.names\""
   ]
  },
  {
   "cell_type": "code",
   "execution_count": 24,
   "metadata": {},
   "outputs": [],
   "source": [
    "net = cv2.dnn.readNetFromDarknet(cfg_file,weights_file)\n",
    "\n",
    "with open(class_file,'r') as f:\n",
    "    classes = f.read().rstrip(\"\\n\").split(\"\\n\")"
   ]
  },
  {
   "cell_type": "code",
   "execution_count": 25,
   "metadata": {},
   "outputs": [],
   "source": [
    "out_layers = net.getUnconnectedOutLayersNames()"
   ]
  },
  {
   "cell_type": "code",
   "execution_count": 28,
   "metadata": {},
   "outputs": [
    {
     "name": "stdout",
     "output_type": "stream",
     "text": [
      "True\n"
     ]
    }
   ],
   "source": [
    "person_id = classes.index(\"person\")\n",
    "\n",
    "cap = cv2.VideoCapture(\"../data/videos/pedestrians.mp4\")\n",
    "\n",
    "print(cap.isOpened())"
   ]
  },
  {
   "cell_type": "code",
   "execution_count": 29,
   "metadata": {},
   "outputs": [
    {
     "name": "stdout",
     "output_type": "stream",
     "text": [
      "(12, 1)\n",
      "(12, 1)\n",
      "(12, 1)\n",
      "(13, 1)\n",
      "(12, 1)\n",
      "(12, 1)\n",
      "(12, 1)\n",
      "(12, 1)\n",
      "(11, 1)\n",
      "(11, 1)\n",
      "(12, 1)\n",
      "(11, 1)\n",
      "(11, 1)\n",
      "(12, 1)\n",
      "(12, 1)\n",
      "(12, 1)\n",
      "(11, 1)\n",
      "(11, 1)\n",
      "(11, 1)\n",
      "(12, 1)\n",
      "(12, 1)\n",
      "(11, 1)\n",
      "(11, 1)\n",
      "(11, 1)\n",
      "(11, 1)\n",
      "(11, 1)\n",
      "(11, 1)\n",
      "(12, 1)\n",
      "(12, 1)\n",
      "(13, 1)\n",
      "(12, 1)\n",
      "(12, 1)\n",
      "(15, 1)\n",
      "(16, 1)\n",
      "(15, 1)\n",
      "(16, 1)\n",
      "(15, 1)\n",
      "(15, 1)\n",
      "(16, 1)\n",
      "(15, 1)\n",
      "(16, 1)\n",
      "(16, 1)\n",
      "(16, 1)\n",
      "(16, 1)\n",
      "(16, 1)\n",
      "(15, 1)\n",
      "(15, 1)\n",
      "(16, 1)\n",
      "(17, 1)\n",
      "(17, 1)\n",
      "(16, 1)\n",
      "(17, 1)\n",
      "(18, 1)\n",
      "(18, 1)\n"
     ]
    }
   ],
   "source": [
    "while cap.isOpened():\n",
    "    \n",
    "    ret,frame = cap.read()\n",
    "    \n",
    "    start_time = cv2.getTickCount()\n",
    "    if not ret:\n",
    "        break\n",
    "        \n",
    "    frame = imutils.resize(frame,height = 500)\n",
    "    height_frame , width_frame = frame.shape[:2]\n",
    "    blob = cv2.dnn.blobFromImage(frame,1/255, (416, 416), [0,0,0], 1, crop=False)\n",
    "    net.setInput(blob)\n",
    "    outputs = net.forward(out_layers)\n",
    "    boxes = []\n",
    "    confidences = []\n",
    "    for output in outputs:\n",
    "        for detection in output:\n",
    "            if detection[4] > 0.5:\n",
    "                scores = detection[5:]\n",
    "                class_id = np.argmax(scores)\n",
    "                confidence = scores[class_id]\n",
    "                if confidence > 0.5 and class_id == person_id:\n",
    "                    center_x = int(detection[0] * width_frame)\n",
    "                    center_y = int(detection[1] * height_frame)\n",
    "                    w = int(detection[2]* width_frame)\n",
    "                    h = int(detection[3]*height_frame)\n",
    "                    x = int(center_x - w/2)\n",
    "                    y = int(center_y - h/2)\n",
    "                    boxes.append([x,y,w,h])\n",
    "                    confidences.append(float(confidence))\n",
    "                    \n",
    "    indices = cv2.dnn.NMSBoxes(boxes,confidences,0.5,0.5)\n",
    "    \n",
    "    for i in indices.flatten():\n",
    "        x,y,w,h = boxes[i]\n",
    "        \n",
    "        cv2.rectangle(frame,(x,y),(x+w,y+h),(0,255,0),2,cv2.LINE_AA)\n",
    "        \n",
    "    fps = cv2.getTickFrequency()/(cv2.getTickCount() - start_time)    \n",
    "    cv2.putText(frame,\"FPS: {:3f}\".format(fps),(10,25),cv2.FONT_HERSHEY_SIMPLEX,0.7,(0,0,255),2,cv2.LINE_AA)\n",
    "        \n",
    "    cv2.imshow(\"Frame\",frame)\n",
    "    k = cv2.waitKey(25)\n",
    "    if k == ord('q'):\n",
    "        break\n",
    "        \n",
    "cap.release()\n",
    "cv2.destroyAllWindows()"
   ]
  },
  {
   "cell_type": "code",
   "execution_count": null,
   "metadata": {},
   "outputs": [],
   "source": []
  }
 ],
 "metadata": {
  "kernelspec": {
   "display_name": "Python 3",
   "language": "python",
   "name": "python3"
  },
  "language_info": {
   "codemirror_mode": {
    "name": "ipython",
    "version": 3
   },
   "file_extension": ".py",
   "mimetype": "text/x-python",
   "name": "python",
   "nbconvert_exporter": "python",
   "pygments_lexer": "ipython3",
   "version": "3.7.6"
  }
 },
 "nbformat": 4,
 "nbformat_minor": 4
}
