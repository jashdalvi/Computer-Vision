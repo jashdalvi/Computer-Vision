{
 "cells": [
  {
   "cell_type": "code",
   "execution_count": 4,
   "metadata": {},
   "outputs": [],
   "source": [
    "%matplotlib inline\n",
    "import cv2\n",
    "import numpy as np\n",
    "import matplotlib.pyplot as plt"
   ]
  },
  {
   "cell_type": "code",
   "execution_count": 11,
   "metadata": {},
   "outputs": [
    {
     "data": {
      "text/plain": [
       "'4.5.1'"
      ]
     },
     "execution_count": 11,
     "metadata": {},
     "output_type": "execute_result"
    }
   ],
   "source": [
    "cv2.__version__"
   ]
  },
  {
   "cell_type": "code",
   "execution_count": 9,
   "metadata": {},
   "outputs": [
    {
     "name": "stdout",
     "output_type": "stream",
     "text": [
      "None\n"
     ]
    }
   ],
   "source": [
    "cap = cv2.VideoCapture(\"../data/videos/hockey.mp4\")\n",
    "tracker = cv2.TrackerMIL_create()\n",
    "\n",
    "ret , frame = cap.read()\n",
    "if not ret:\n",
    "    print(\"The video is not being captured\")\n",
    "    \n",
    "bbox = (129, 47, 74, 85)\n",
    "\n",
    "ok = tracker.init(frame,bbox)\n",
    "print(ok)"
   ]
  },
  {
   "cell_type": "code",
   "execution_count": 10,
   "metadata": {},
   "outputs": [],
   "source": [
    "while True:\n",
    "    \n",
    "    ret, frame = cap.read()\n",
    "    if not ret:\n",
    "        break\n",
    "        \n",
    "    start = cv2.getTickCount()\n",
    "    \n",
    "    ok,bbox = tracker.update(frame)\n",
    "    \n",
    "    if not ok:\n",
    "        break\n",
    "        \n",
    "    fps = cv2.getTickFrequency()/(cv2.getTickCount() - start)\n",
    "    x,y,w,h = bbox\n",
    "    cv2.rectangle(frame,(x,y),(x+w,y+h),(0,255,0),2,cv2.LINE_AA)\n",
    "    cv2.putText(frame,\"FPS : {:.3f}\".format(fps),(10,25),cv2.FONT_HERSHEY_SIMPLEX,0.7,(0,0,255),2,cv2.LINE_AA)\n",
    "    \n",
    "    cv2.imshow(\"Frame\",frame)\n",
    "    \n",
    "    k = cv2.waitKey(25)\n",
    "    if k == ord('q'):\n",
    "        break\n",
    "    \n",
    "    \n",
    "cap.release()\n",
    "cv2.destroyAllWindows()"
   ]
  },
  {
   "cell_type": "code",
   "execution_count": null,
   "metadata": {},
   "outputs": [],
   "source": []
  }
 ],
 "metadata": {
  "kernelspec": {
   "display_name": "Python 3",
   "language": "python",
   "name": "python3"
  },
  "language_info": {
   "codemirror_mode": {
    "name": "ipython",
    "version": 3
   },
   "file_extension": ".py",
   "mimetype": "text/x-python",
   "name": "python",
   "nbconvert_exporter": "python",
   "pygments_lexer": "ipython3",
   "version": "3.7.6"
  }
 },
 "nbformat": 4,
 "nbformat_minor": 4
}
