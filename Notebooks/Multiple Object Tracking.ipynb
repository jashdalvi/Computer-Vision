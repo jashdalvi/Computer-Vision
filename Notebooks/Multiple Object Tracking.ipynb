{
 "cells": [
  {
   "cell_type": "code",
   "execution_count": 17,
   "metadata": {},
   "outputs": [],
   "source": [
    "%matplotlib inline\n",
    "import cv2\n",
    "import numpy as np\n",
    "import matplotlib.pyplot as plt"
   ]
  },
  {
   "cell_type": "code",
   "execution_count": 18,
   "metadata": {},
   "outputs": [
    {
     "name": "stdout",
     "output_type": "stream",
     "text": [
      "4.4.0\n"
     ]
    }
   ],
   "source": [
    "print(cv2.__version__)"
   ]
  },
  {
   "cell_type": "code",
   "execution_count": 19,
   "metadata": {},
   "outputs": [],
   "source": [
    "cap = cv2.VideoCapture(\"../data/videos/cycle.mp4\")\n",
    "tracker = cv2.TrackerC_create()\n",
    "bboxes = [(471, 250, 66, 159), (349, 232, 69, 102)]\n",
    "\n",
    "multi_tracker = cv2.MultiTracker_create()\n",
    "\n",
    "\n",
    "ret, frame = cap.read()\n",
    "\n",
    "if not ret:\n",
    "    print(\"The video is not captured\")\n",
    "    \n",
    "for bbox in bboxes:\n",
    "    multi_tracker.add(tracker,frame,bbox)"
   ]
  },
  {
   "cell_type": "code",
   "execution_count": 20,
   "metadata": {},
   "outputs": [],
   "source": [
    "while True:\n",
    "    \n",
    "    ret , frame = cap.read()\n",
    "    if not ret:\n",
    "        break\n",
    "        \n",
    "    start = cv2.getTickCount()\n",
    "    \n",
    "    ok,bboxes = multi_tracker.update(frame)\n",
    "    if not ok:\n",
    "        break\n",
    "    for bbox in bboxes:\n",
    "        x,y,w,h = bbox\n",
    "        cv2.rectangle(frame,(int(x),int(y)),(int(x+w),int(y+h)),(0,255,0),2,cv2.LINE_AA)\n",
    "    fps = cv2.getTickFrequency()/(cv2.getTickCount() - start)\n",
    "    \n",
    "    cv2.putText(frame,\"FPS : {:.3f}\".format(fps),(10,25),cv2.FONT_HERSHEY_SIMPLEX,0.7,(0,0,255),2,cv2.LINE_AA)\n",
    "    \n",
    "    cv2.imshow(\"Tracking\",frame)\n",
    "    k = cv2.waitKey(25)\n",
    "    if k == ord('q'):\n",
    "        break\n",
    "        \n",
    "cap.release()\n",
    "cv2.destroyAllWindows()"
   ]
  },
  {
   "cell_type": "code",
   "execution_count": null,
   "metadata": {},
   "outputs": [],
   "source": []
  }
 ],
 "metadata": {
  "kernelspec": {
   "display_name": "Python 3",
   "language": "python",
   "name": "python3"
  },
  "language_info": {
   "codemirror_mode": {
    "name": "ipython",
    "version": 3
   },
   "file_extension": ".py",
   "mimetype": "text/x-python",
   "name": "python",
   "nbconvert_exporter": "python",
   "pygments_lexer": "ipython3",
   "version": "3.7.6"
  }
 },
 "nbformat": 4,
 "nbformat_minor": 4
}
